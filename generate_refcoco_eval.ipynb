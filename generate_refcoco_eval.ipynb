{
 "cells": [
  {
   "cell_type": "code",
   "execution_count": 71,
   "metadata": {},
   "outputs": [
    {
     "name": "stdout",
     "output_type": "stream",
     "text": [
      "Total Number of Images in /test2014:  82783\n",
      "Total Number of Images accounted for in instances.json:  25799\n",
      "Total Number of Annotations accounted for in instances.json:  208960\n",
      "Total Number of References accounted for in refs.json:  49822\n"
     ]
    }
   ],
   "source": [
    "import json\n",
    "import os\n",
    "from tqdm import tqdm\n",
    "\n",
    "# Load reference and instances\n",
    "refs_file = open(os.getcwd() + \"/data/refcocog/refs(google).json\")\n",
    "instances_file = open(os.getcwd() + \"/data/refcocog/instances.json\")\n",
    "refs_list = json.load(refs_file)\n",
    "instances_dict = json.load(instances_file)\n",
    "\n",
    "# refcocog/refs(google).json does not have any references with a file_name that correspond with the images in /test2014\n",
    "# therefore we will need to split train2014 in to a new train/val/test\n",
    "images_list = os.listdir(os.getcwd() + \"/data/images/mscoco/images/train2014\")  \n",
    "\n",
    "print(\"Total Number of Images in /test2014: \", len(images_list))\n",
    "print(\"Total Number of Images accounted for in instances.json: \", len(instances_dict[\"images\"]))\n",
    "print(\"Total Number of Annotations accounted for in instances.json: \", len(instances_dict[\"annotations\"]))\n",
    "print(\"Total Number of References accounted for in refs.json: \", len(refs_list))\n"
   ]
  },
  {
   "cell_type": "code",
   "execution_count": 72,
   "metadata": {},
   "outputs": [
    {
     "name": "stderr",
     "output_type": "stream",
     "text": [
      "100%|██████████| 49822/49822 [00:22<00:00, 2211.29it/s]\n",
      "100%|██████████| 25799/25799 [00:06<00:00, 4254.44it/s]"
     ]
    },
    {
     "name": "stdout",
     "output_type": "stream",
     "text": [
      "Num images after refs filter:  25799\n",
      "Num images after instances filter:  25799\n"
     ]
    },
    {
     "name": "stderr",
     "output_type": "stream",
     "text": [
      "\n"
     ]
    }
   ],
   "source": [
    "# determine which images are called by both refs.json and instances.json\n",
    "images_in_refs = []\n",
    "for ref in tqdm(refs_list):\n",
    "    file_name = '_'.join(ref[\"file_name\"].split(\"_\")[:-1]) + \".jpg\"\n",
    "    if file_name in images_list and file_name not in images_in_refs:\n",
    "        images_in_refs.append(file_name)\n",
    "        \n",
    "images_in_refs_and_instances = []\n",
    "for image in tqdm(instances_dict[\"images\"]):\n",
    "    if image[\"file_name\"] in images_in_refs and image[\"file_name\"] not in images_in_refs_and_instances:\n",
    "        images_in_refs_and_instances.append(image[\"file_name\"])\n",
    "\n",
    "print(\"Num images after refs filter: \", len(images_in_refs))\n",
    "print(\"Num images after instances filter: \", len(images_in_refs_and_instances))"
   ]
  },
  {
   "cell_type": "code",
   "execution_count": 73,
   "metadata": {},
   "outputs": [],
   "source": [
    "images_list = images_in_refs_and_instances\n",
    "        \n"
   ]
  },
  {
   "cell_type": "code",
   "execution_count": 75,
   "metadata": {},
   "outputs": [],
   "source": [
    "# make the test_RefCOCOg dataset\n",
    "from datetime import datetime\n",
    "\n",
    "current_time_stamp = str(datetime.now()).replace(\":\",\"_\")\n",
    "\n",
    "DATASET_PATH = f\"/generated_datasets/test_RefCOCOg_{current_time_stamp}\"\n",
    "DATASET_IMAGES_PATH = f\"/generated_datasets/test_RefCOCOg_{current_time_stamp}/images/\"\n",
    "os.mkdir(os.getcwd() + DATASET_PATH)\n",
    "os.mkdir(os.getcwd() + DATASET_IMAGES_PATH)\n"
   ]
  },
  {
   "cell_type": "code",
   "execution_count": 76,
   "metadata": {},
   "outputs": [
    {
     "name": "stderr",
     "output_type": "stream",
     "text": [
      "100%|██████████| 25799/25799 [00:00<00:00, 67894.81it/s]\n",
      "100%|██████████| 208960/208960 [00:00<00:00, 226044.41it/s]"
     ]
    },
    {
     "name": "stdout",
     "output_type": "stream",
     "text": [
      "num images:  500\n",
      "num annos:  3865\n"
     ]
    },
    {
     "name": "stderr",
     "output_type": "stream",
     "text": [
      "\n"
     ]
    }
   ],
   "source": [
    "import shutil\n",
    "\n",
    "    \n",
    "test_instances_dict = {}\n",
    "test_instances_dict[\"info\"] = instances_dict[\"info\"]\n",
    "test_instances_dict[\"images\"] = []\n",
    "test_instances_dict[\"annotations\"] = []\n",
    "test_instances_dict[\"categories\"] = instances_dict[\"categories\"]\n",
    "\n",
    "# load image and annotations for all images in the train dataset\n",
    "images_list = images_list[0:500]    # shrink the dataset\n",
    "for image in tqdm(instances_dict[\"images\"]):\n",
    "    if image[\"file_name\"] in images_list:\n",
    "        test_instances_dict[\"images\"].append(image)\n",
    "    \n",
    "        src_path = os.getcwd() + \"/data/images/mscoco/images/train2014/\" + image[\"file_name\"]\n",
    "        dst_path = os.getcwd() + DATASET_IMAGES_PATH + image[\"file_name\"]\n",
    "        shutil.copy(src_path,dst_path)\n",
    "\n",
    "for anno in tqdm(instances_dict[\"annotations\"]):\n",
    "    image_name = \"COCO_train2014_\" + str(anno['image_id']).zfill(12) + \".jpg\"\n",
    "    if image_name in images_list:\n",
    "        test_instances_dict[\"annotations\"].append(anno)\n",
    "        \n",
    "print(\"num images: \",len(test_instances_dict[\"images\"]))\n",
    "print(\"num annos: \",len(test_instances_dict[\"annotations\"]))"
   ]
  },
  {
   "cell_type": "code",
   "execution_count": 77,
   "metadata": {},
   "outputs": [
    {
     "name": "stderr",
     "output_type": "stream",
     "text": [
      "100%|██████████| 49822/49822 [00:00<00:00, 209068.13it/s]"
     ]
    },
    {
     "name": "stdout",
     "output_type": "stream",
     "text": [
      "Number of Images found: 500\n",
      "Number of References: 943\n"
     ]
    },
    {
     "name": "stderr",
     "output_type": "stream",
     "text": [
      "\n"
     ]
    }
   ],
   "source": [
    "test_refs_list = []\n",
    "image_names_not_found = []\n",
    "\n",
    "for ref in tqdm(refs_list):\n",
    "    image_name = '_'.join(ref[\"file_name\"].split(\"_\")[:-1])+\".jpg\"\n",
    "    if image_name in images_list:\n",
    "        test_refs_list.append(ref)\n",
    "\n",
    "\n",
    "print(f\"Number of Images found: {len(images_list)-len(image_names_not_found)}\")\n",
    "print(f\"Number of References: {len(test_refs_list)}\")"
   ]
  },
  {
   "cell_type": "markdown",
   "metadata": {},
   "source": [
    "# generate instances.json and refs.json"
   ]
  },
  {
   "cell_type": "code",
   "execution_count": 78,
   "metadata": {},
   "outputs": [],
   "source": [
    "with open(os.getcwd() + DATASET_PATH + \"/instances.json\", 'w') as f:\n",
    "    json.dump(test_instances_dict, f)\n",
    "with open(os.getcwd() + DATASET_PATH + \"/refs.json\", 'w') as f:\n",
    "    json.dump(test_refs_list, f)"
   ]
  }
 ],
 "metadata": {
  "kernelspec": {
   "display_name": "eecs545",
   "language": "python",
   "name": "python3"
  },
  "language_info": {
   "codemirror_mode": {
    "name": "ipython",
    "version": 3
   },
   "file_extension": ".py",
   "mimetype": "text/x-python",
   "name": "python",
   "nbconvert_exporter": "python",
   "pygments_lexer": "ipython3",
   "version": "3.11.8"
  }
 },
 "nbformat": 4,
 "nbformat_minor": 2
}
